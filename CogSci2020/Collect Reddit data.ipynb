{
 "cells": [
  {
   "cell_type": "markdown",
   "metadata": {},
   "source": [
    "# Collect Reddit data\n",
    "\n",
    "**Author:** Hunter Priniski (priniski@ucla.edu)\n",
    "**Script:** Mine Reddit posts. "
   ]
  },
  {
   "cell_type": "code",
   "execution_count": null,
   "metadata": {},
   "outputs": [],
   "source": [
    "import praw\n",
    "import json\n",
    "import datetime\n",
    "import os\n",
    "from ahocorapy.keywordtree import KeywordTree\n",
    "import pandas as pd\n",
    "from nltk.stem.porter import *\n",
    "import re"
   ]
  },
  {
   "cell_type": "code",
   "execution_count": null,
   "metadata": {},
   "outputs": [],
   "source": [
    "reddit = praw.Reddit(client_id='bCQSZCUJwMbIWA',\n",
    "                     client_secret='MMTmTsQyE3ZxniK9hsYU7QnQrJw',\n",
    "                     password='TS26034ts',\n",
    "                     user_agent='testscript by /u/hunugh',\n",
    "                     username='hunugh')"
   ]
  },
  {
   "cell_type": "code",
   "execution_count": null,
   "metadata": {},
   "outputs": [],
   "source": [
    "def get_replies(comment):\n",
    "    replies = comment['_replies']._comments\n",
    "\n",
    "    replies_list = []\n",
    "\n",
    "    if len(replies) > 0:\n",
    "\n",
    "        for reply in replies:\n",
    "            replies_list.append(reply.id)\n",
    "\n",
    "        return replies_list\n",
    "\n",
    "    else:\n",
    "        return []"
   ]
  },
  {
   "cell_type": "code",
   "execution_count": null,
   "metadata": {},
   "outputs": [],
   "source": [
    "def get_comments(submission):\n",
    "    \n",
    "    comments = []\n",
    "    com = submission.comments.replace_more(limit=submission.num_comments)\n",
    "    com_tree = submission.comments[:]\n",
    "\n",
    "    while com_tree:\n",
    "        comment = com_tree.pop(0)                    \n",
    "        com_tree.extend(comment.replies)\n",
    "        comments.append(comment)\n",
    "\n",
    "    data_dicts = []\n",
    "    \n",
    "    for comment in comments:\n",
    "        comment_dict = vars(comment)\n",
    "        comment_body = comment_dict['body']\n",
    "        data_dict = {field:comment_dict[field] for field in comment_dict.keys()}\n",
    "        data_dict['_replies'] = get_replies(comment_dict)\n",
    "        \n",
    "        try: \n",
    "            data_dict['author'] = vars(data_dict['author'])['name']\n",
    "        \n",
    "        except TypeError: \n",
    "            continue\n",
    "            \n",
    "        data_dicts.append(data_dict)\n",
    "\n",
    "    return data_dicts"
   ]
  },
  {
   "cell_type": "code",
   "execution_count": null,
   "metadata": {},
   "outputs": [],
   "source": [
    "subreddit_name = 'statistics'\n",
    "subreddit = reddit.subreddit(subreddit_name)\n",
    "\n",
    "for submission in subreddit.top(limit = 1000):\n",
    "\n",
    "    submission_dict = vars(submission)\n",
    "    author = submission_dict['author']\n",
    "    post = {field:submission_dict[field] for field in submission_dict.keys()}\n",
    "    post['_comments'] = get_comments(submission)\n",
    "    if post['author']: \n",
    "        post['author'] = vars(post['author'])['name']\n",
    "    else: \n",
    "        post['author'] = 'NA'\n",
    "    post['_reddit'] = '_reddit'\n",
    "    post['subreddit'] = subreddit_name\n",
    "    \n",
    "    for comment in post['_comments']:\n",
    "        comment['_submission'] = comment['_submission'].id\n",
    "        comment['_reddit'] = '_reddit'\n",
    "        comment['subreddit'] = subreddit_name\n",
    "        \n",
    "    with open('reddit_data/'+ post['name'] +'.json', 'w') as outfile:\n",
    "        print(\"Wrote %s as JSON File\" % post['name'])\n",
    "        json.dump(post, outfile)"
   ]
  },
  {
   "cell_type": "code",
   "execution_count": null,
   "metadata": {},
   "outputs": [],
   "source": [
    "posts = [] \n",
    "#Note. you need to create a dir called reddit_data in your wd\n",
    "directory = os.fsencode('reddit_data/')     \n",
    "\n",
    "for file in os.listdir(directory): \n",
    "    filename = os.fsdecode(file)    \n",
    "    if filename.endswith(\".json\"):  \n",
    "        \n",
    "        with open('reddit_data/' + filename, 'r') as json_file:\n",
    "            post = json.load(json_file)\n",
    "            posts.append(post)  "
   ]
  },
  {
   "cell_type": "code",
   "execution_count": null,
   "metadata": {},
   "outputs": [],
   "source": [
    "df = []\n",
    "\n",
    "#create a trim dataframe of reddit posts\n",
    "for post in posts:\n",
    "    subreddit = post['subreddit']\n",
    "    title = post['title']\n",
    "    selftext = post['selftext']\n",
    "    selftext_html = post['selftext_html']\n",
    "    name = post['name']\n",
    "    author = post['author']\n",
    "    score = post['score']\n",
    "    \n",
    "    \n",
    "    for comment in post['_comments']:\n",
    "        \n",
    "        comment_replies = comment['_replies']\n",
    "        comment_body = comment['body']\n",
    "        comment_html = comment['body_html']    \n",
    "        comment_name = comment['name']\n",
    "        comment_author = comment['author']\n",
    "        comment_score = comment['ups']\n",
    "    \n",
    "        replies = comment['_replies']\n",
    "        \n",
    "        row = [subreddit, title, selftext, selftext_html, name, author, score,\n",
    "              comment_replies, comment_body, comment_html, comment_name, comment_author, comment_score]\n",
    "        \n",
    "        df.append(row)"
   ]
  },
  {
   "cell_type": "code",
   "execution_count": null,
   "metadata": {},
   "outputs": [],
   "source": [
    "cols = ['subreddit', 'title', 'selftext', 'selftext_html', 'name', 'author', 'score',\n",
    "              'comment_replies', 'comment_body', 'comment_html', 'comment_name', 'comment_author', 'comment_score']"
   ]
  },
  {
   "cell_type": "code",
   "execution_count": null,
   "metadata": {},
   "outputs": [],
   "source": [
    "DF = pd.DataFrame(df, columns = cols)"
   ]
  },
  {
   "cell_type": "code",
   "execution_count": null,
   "metadata": {},
   "outputs": [],
   "source": [
    "DF.to_excel('reddit_data.xlsx', index = False)"
   ]
  }
 ],
 "metadata": {
  "kernelspec": {
   "display_name": "Python 3",
   "language": "python",
   "name": "python3"
  },
  "language_info": {
   "codemirror_mode": {
    "name": "ipython",
    "version": 3
   },
   "file_extension": ".py",
   "mimetype": "text/x-python",
   "name": "python",
   "nbconvert_exporter": "python",
   "pygments_lexer": "ipython3",
   "version": "3.7.3"
  }
 },
 "nbformat": 4,
 "nbformat_minor": 2
}
